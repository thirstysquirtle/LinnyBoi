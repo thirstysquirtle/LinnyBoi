{
 "cells": [
  {
   "cell_type": "code",
   "execution_count": 1,
   "id": "4bd7bda9-9070-4922-b38f-bab3a0166371",
   "metadata": {
    "collapsed": true,
    "jupyter": {
     "outputs_hidden": true
    },
    "tags": []
   },
   "outputs": [],
   "source": [
    "import binance_functions as bn\n",
    "\n",
    "candles = bn.get_candles(\"BTCUSDT\", 24 )"
   ]
  },
  {
   "cell_type": "code",
   "execution_count": 3,
   "id": "63109d9c-d9e9-4e4d-b7d5-c347720666c6",
   "metadata": {
    "tags": []
   },
   "outputs": [
    {
     "name": "stdout",
     "output_type": "stream",
     "text": [
      "i: 0, learning_rate: 9.361386204859186e-07\n",
      "tensor([[25.4175],\n",
      "        [25.4295],\n",
      "        [25.4509],\n",
      "        [25.4310],\n",
      "        [25.3499],\n",
      "        [25.3995],\n",
      "        [25.3620],\n",
      "        [25.3621],\n",
      "        [25.3584],\n",
      "        [25.3561],\n",
      "        [25.3375],\n",
      "        [25.3207],\n",
      "        [25.2485],\n",
      "        [25.2575],\n",
      "        [25.2481],\n",
      "        [25.2244],\n",
      "        [25.2399],\n",
      "        [25.2066],\n",
      "        [25.4132],\n",
      "        [25.3875],\n",
      "        [25.5126],\n",
      "        [25.4975],\n",
      "        [25.5523],\n",
      "        [25.4098]])\n",
      "loss: 0.008398578502237797\n",
      "tensor([[25358.6562],\n",
      "        [25359.3848],\n",
      "        [25360.1133],\n",
      "        [25360.8438],\n",
      "        [25361.5723],\n",
      "        [25362.3008],\n",
      "        [25363.0293],\n",
      "        [25363.7598],\n",
      "        [25364.4883],\n",
      "        [25365.2168],\n",
      "        [25365.9453],\n",
      "        [25366.6738],\n",
      "        [25367.4043],\n",
      "        [25368.1328],\n",
      "        [25368.8613],\n",
      "        [25369.5898],\n",
      "        [25370.3203],\n",
      "        [25371.0508],\n",
      "        [25371.7793],\n",
      "        [25372.5078],\n",
      "        [25373.2363],\n",
      "        [25373.9668],\n",
      "        [25374.6953],\n",
      "        [25375.4238]], grad_fn=<MulBackward0>)\n"
     ]
    }
   ],
   "source": [
    "import regression_model as reg\n",
    "candles = bn.get_candles(\"BTCUSDT\", 24)\n",
    "Xses = candles[\"Time_Open\"]\n",
    "losses = reg.model.train_model(Xses, reg.get_candle_middle(candles), num_epochs=50000)\n",
    "\n",
    "print(reg.get_candle_middle(candles))\n",
    "print(f\"loss: {losses[len(losses)-1]}\")\n",
    "print(reg.model([i for i in range(24)]) * 1000)"
   ]
  },
  {
   "cell_type": "code",
   "execution_count": null,
   "id": "11dc87b6-f6f4-43ee-98e5-f891bc3db050",
   "metadata": {},
   "outputs": [],
   "source": []
  }
 ],
 "metadata": {
  "kernelspec": {
   "display_name": "Python 3 (ipykernel)",
   "language": "python",
   "name": "python3"
  },
  "language_info": {
   "codemirror_mode": {
    "name": "ipython",
    "version": 3
   },
   "file_extension": ".py",
   "mimetype": "text/x-python",
   "name": "python",
   "nbconvert_exporter": "python",
   "pygments_lexer": "ipython3",
   "version": "3.11.2"
  }
 },
 "nbformat": 4,
 "nbformat_minor": 5
}
